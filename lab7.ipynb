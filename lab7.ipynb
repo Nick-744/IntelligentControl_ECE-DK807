{
 "cells": [
  {
   "attachments": {
    "7aa0d445-0ecb-4d7c-bf24-dff5fef74864.png": {
     "image/png": "[encoded data removed]"
    }
   },
   "cell_type": "markdown",
   "id": "721b71a8-634d-4c97-b8d4-400167706311",
   "metadata": {
    "deletable": false,
    "editable": false,
    "nbgrader": {
     "cell_type": "markdown",
     "checksum": "3d915f91f83afe3f818f8cf7c847a6e9",
     "grade": false,
     "grade_id": "cell-e4f196c861185f47",
     "locked": true,
     "schema_version": 3,
     "solution": false,
     "task": false
    }
   },
   "source": [
    "# Intelligent Control (ECE-DK807)\n",
    "\n",
    "## Electrical and Computer Engineering Department, University of Patras Greece\n",
    "\n",
    "**Instructor:** Konstantinos Chazilygeroudis (costashatz@upatras.gr)\n",
    "\n",
    "## Lab 7\n",
    "\n",
    "### Cartpole System\n",
    "\n",
    "<img src=\"attachment:7aa0d445-0ecb-4d7c-bf24-dff5fef74864.png\" width=\"300px\"/>\n",
    "\n",
    "The cartpole system consists of a cart with mass $m_1$ and an attached pendulum with mass $m_2$ and length $l_p$, which swings freely in the plane.\n",
    "\n",
    "The state of the system is $\\boldsymbol{x} = \\begin{bmatrix}x\\\\\\theta\\\\\\dot{x}\\\\\\dot{\\theta}\\end{bmatrix}\\in\\mathbb{R}^4$ and the control input $\\boldsymbol{u} = \\tau\\in\\mathbb{R}$ is the horizontal force applied to the cart.\n",
    "\n",
    "The dynamics are given by the following equation:\n",
    "\n",
    "$\\dot{\\boldsymbol{x}} = f(\\boldsymbol{x}, \\boldsymbol{u}) = \\begin{bmatrix}\\dot{x}\\\\\\dot{\\theta}\\\\\\frac{2m_2l_p\\dot{\\theta}^2\\sin\\theta + 3m_2g\\sin\\theta\\cos\\theta + 4\\tau - 4b_f\\dot{x}}{4(m_1+m_2) - 3m_2\\cos^2\\theta}\\\\\\frac{-3m_2l_p\\dot{\\theta}^2\\sin\\theta\\cos\\theta - 6(m_1+m_2)g\\sin\\theta - 6(\\tau-b_f\\dot{x})\\cos\\theta}{4l_p(m_1+m_2)-3m_2l_p\\cos^2\\theta}\\end{bmatrix}$\n",
    "\n",
    "Let's first write down the dynamics!"
   ]
  },
  {
   "cell_type": "code",
   "execution_count": 1,
   "id": "2599f021-edfd-4b98-a779-e25696ae77f6",
   "metadata": {
    "deletable": false,
    "editable": false,
    "nbgrader": {
     "cell_type": "code",
     "checksum": "468ce954028d0426a8b9dd4344ec51f1",
     "grade": false,
     "grade_id": "cell-3ce910c0bdb505d2",
     "locked": true,
     "schema_version": 3,
     "solution": false,
     "task": false
    }
   },
   "outputs": [],
   "source": [
    "import numpy as np # Linear Algebra\n",
    "import matplotlib.pyplot as plt # Plotting"
   ]
  },
  {
   "cell_type": "code",
   "execution_count": 2,
   "id": "6179a5f0-4a92-4f11-93ae-72be88e1778e",
   "metadata": {
    "deletable": false,
    "editable": false,
    "nbgrader": {
     "cell_type": "code",
     "checksum": "2da4d00b9fb9380408667d04edb1468d",
     "grade": false,
     "grade_id": "cell-664d353b2ff83629",
     "locked": true,
     "schema_version": 3,
     "solution": false,
     "task": false
    }
   },
   "outputs": [],
   "source": [
    "# Dynamics\n",
    "def cartpole_dynamics(xx, uu):\n",
    "    m1 = 0.5 # cart\n",
    "    m2 = 0.5 # pole\n",
    "    lp = 0.6 # length pole\n",
    "    bf = 0.1 # friction\n",
    "    g = 9.81 # gravity\n",
    "\n",
    "    x = xx.reshape((4,))\n",
    "    u = uu.reshape((1,))\n",
    "\n",
    "    # x = [x,θ,\\dot{x},\\dot{θ}]\n",
    "    # p = x[0]\n",
    "    th = x[1]\n",
    "    x_dot = x[2]\n",
    "    th_dot = x[3]\n",
    "\n",
    "    st = np.sin(th)\n",
    "    ct = np.cos(th)\n",
    "\n",
    "    th_dot_sq = th_dot * th_dot\n",
    "\n",
    "    x_ddot = (2.*m2*lp*th_dot_sq*st + 3.*m2*g*st*ct + 4.*u[0] - 4.*bf*x_dot) / (4.*(m1 + m2) - 3.*m2*ct*ct)\n",
    "\n",
    "    th_ddot = (-3.*m2*lp*th_dot_sq*st*ct - 6.*(m1+m2)*g*st - 6*(u[0]-bf*x_dot)*ct) / (4.*lp*(m1 + m2) - 3.*m2*lp*ct*ct)\n",
    "\n",
    "    return np.array([[x_dot, th_dot, x_ddot, th_ddot]]).T\n",
    "\n",
    "def cartpole_rk4(x, u, dt = 0.05):\n",
    "    f1 = cartpole_dynamics(x, u)\n",
    "    f2 = cartpole_dynamics(x + 0.5 * dt * f1, u)\n",
    "    f3 = cartpole_dynamics(x + 0.5 * dt * f2, u)\n",
    "    f4 = cartpole_dynamics(x + dt * f3, u)\n",
    "    x_n = x + (dt/6.)*(f1 + 2. * f2 + 2. * f3 + f4)\n",
    "    return x_n"
   ]
  },
  {
   "cell_type": "code",
   "execution_count": 3,
   "id": "85b86584-17b0-491a-bd9f-b055dc3e39e3",
   "metadata": {
    "deletable": false,
    "editable": false,
    "nbgrader": {
     "cell_type": "code",
     "checksum": "8cb8a6ee9204a87fd1a84ad624a691f8",
     "grade": false,
     "grade_id": "cell-8560596619886f35",
     "locked": true,
     "schema_version": 3,
     "solution": false,
     "task": false
    }
   },
   "outputs": [],
   "source": [
    "# A few helpers\n",
    "def angle_dist(b, a):\n",
    "    theta = b - a\n",
    "    while theta < -np.pi:\n",
    "        theta += 2. * np.pi\n",
    "    while theta > np.pi:\n",
    "        theta -= 2. * np.pi\n",
    "    return theta"
   ]
  },
  {
   "cell_type": "markdown",
   "id": "f07cfaaf-6d26-4e80-85db-2e4d679040c4",
   "metadata": {
    "deletable": false,
    "editable": false,
    "nbgrader": {
     "cell_type": "markdown",
     "checksum": "bc216072d67b6c576caa5ab74bc3b898",
     "grade": false,
     "grade_id": "cell-d2d5d947fc48d35a",
     "locked": true,
     "schema_version": 3,
     "solution": false,
     "task": false
    }
   },
   "source": [
    "### Antithetic Evolution Strategy\n",
    "\n",
    "1. Initialize $\\boldsymbol{\\sigma}^2_0\\in\\mathbb{R}^D$\n",
    "2. Generate $N$ $\\epsilon$-vectors ($D$-dimensional): $\\boldsymbol{\\epsilon}_i\\sim\\mathcal{N}(\\boldsymbol{0}, \\boldsymbol{I})$\n",
    "3. $\\nabla_{\\boldsymbol{\\theta}}J(\\boldsymbol{\\theta})\\approx\\sum_{i=1}^N\\frac{(J(\\boldsymbol{\\theta}+\\sigma\\boldsymbol{\\epsilon}_i)-J(\\boldsymbol{\\theta}-\\sigma\\boldsymbol{\\epsilon}_i))}{2\\sigma}\\boldsymbol{\\epsilon}_i$\n",
    "4. Follow the gradient with SGD or Adam\n",
    "5. Compute/Adapt $\\boldsymbol{\\sigma}^2_{k+1}$\n",
    "6. Go back to step 2 (repeat until convergence/stopping criteria)\n",
    "\n",
    "Let's implement it to solve our cartpole system!"
   ]
  },
  {
   "cell_type": "code",
   "execution_count": 4,
   "id": "2e25d7e6-10ac-451a-aba5-7b257a713206",
   "metadata": {
    "deletable": false,
    "nbgrader": {
     "cell_type": "code",
     "checksum": "40e43e3d6d0af4cc0741a85604415641",
     "grade": false,
     "grade_id": "cell-b939637a60be9ef3",
     "locked": false,
     "schema_version": 3,
     "solution": true,
     "task": false
    }
   },
   "outputs": [],
   "source": [
    "# We first need a function that generates the population\n",
    "#   In essence, we need to generate N ε-vectors and fill the 2N population\n",
    "#   We return the population and the ε-vectors (we need them for the gradient computation)\n",
    "def generate_population(mu, sigma, N):\n",
    "    ### TO-DO: Write down the function\n",
    "    ### ANSWER: Insert code here\n",
    "    mu = np.array(mu)\n",
    "    d = mu.shape[0]\n",
    "    eps = np.random.randn(d, N)\n",
    "    \n",
    "    pop = np.hstack([\n",
    "        mu + sigma * eps,\n",
    "        mu - sigma * eps\n",
    "    ])\n",
    "    'print(pop.shape) # -> (d, 2N)'\n",
    "    ### END of ANSWER\n",
    "    return pop, eps\n",
    "\n",
    "# We evaluate the population\n",
    "def evaluate_pop(pop, f):\n",
    "    F = []\n",
    "    # We can parallelize here!\n",
    "    for i in range(pop.shape[1]):\n",
    "        F.append(f(pop[:,i]))\n",
    "    \n",
    "    return np.array([F])"
   ]
  },
  {
   "cell_type": "code",
   "execution_count": 5,
   "id": "f0c66ed2-90c0-4f19-acea-5cf36f6d2cc9",
   "metadata": {
    "deletable": false,
    "editable": false,
    "nbgrader": {
     "cell_type": "code",
     "checksum": "f067d20191e88bd8b71837220bfd6252",
     "grade": true,
     "grade_id": "cell-43fbdb5a3066f65b",
     "locked": true,
     "points": 3,
     "schema_version": 3,
     "solution": false,
     "task": false
    }
   },
   "outputs": [],
   "source": [
    "D = 5\n",
    "mu0 = np.random.randn(D, 1)\n",
    "sig0 = np.ones_like(mu0)\n",
    "N = 200\n",
    "\n",
    "pop, _ = generate_population(mu0, sig0, N)\n",
    "assert(pop.shape == (5, 400))\n"
   ]
  },
  {
   "cell_type": "code",
   "execution_count": 6,
   "id": "0ec19cf2-6c47-43e6-8b1b-e9b77703adaf",
   "metadata": {
    "deletable": false,
    "nbgrader": {
     "cell_type": "code",
     "checksum": "fadb189a7980c6c8db6980ab8f598314",
     "grade": false,
     "grade_id": "cell-a50ac93bab5be8f2",
     "locked": false,
     "schema_version": 3,
     "solution": true,
     "task": false
    }
   },
   "outputs": [],
   "source": [
    "# Simplest NN policy (one hidden layer!)\n",
    "def policy(w, x, action_dim, hidden):\n",
    "    weights = w.reshape((-1, 1))\n",
    "    w1n = x.shape[0] * hidden\n",
    "    b1n = hidden\n",
    "    w2n = hidden * action_dim\n",
    "    b2n = action_dim\n",
    "    assert(weights.shape[0] == (w1n + w2n + b1n + b2n))\n",
    "\n",
    "    ### TO-DO: Implement a Simple Neural Network\n",
    "    ### We want one hidden layer with `hidden` number of hidden neurons\n",
    "    ### ReLU activation for the hidden layer\n",
    "    ### tanh activation for the output layer\n",
    "    ### The neural network is given by the following equation: y2 = tanh(w2 @ (ReLU(w1 @ x + b1)) + b2)\n",
    "    ### The weights of the neural network are stored in the input variable `w` with the following order:\n",
    "    ### w = [w1, b1, w2, b2] (flattened)\n",
    "    ### Store the result in a variable named `y2`\n",
    "    ### ANSWER: Insert code here\n",
    "    i = 0\n",
    "\n",
    "    # 1ο layer\n",
    "    w1 = weights[i:i + w1n].reshape((hidden, x.shape[0]))\n",
    "    i += w1n\n",
    "    b1 = weights[i:i + b1n].reshape((hidden, 1))\n",
    "    i += b1n\n",
    "\n",
    "    # 2ο layer\n",
    "    w2 = weights[i:i + w2n].reshape((action_dim, hidden))\n",
    "    i += w2n\n",
    "    b2 = weights[i:i + b2n].reshape((action_dim, 1))\n",
    "    i += b2n\n",
    "\n",
    "    # Forward\n",
    "    y1 = np.maximum(0, w1 @ x + b1) # ReLU\n",
    "    y2 = np.tanh(w2 @ y1 + b2)      # tanh\n",
    "    ### END of ANSWER\n",
    "\n",
    "    return y2.reshape((-1, 1))\n",
    "\n",
    "def policy_size(state_dim, action_dim, hidden):\n",
    "    return (state_dim + 1) * hidden + (hidden + 1) * action_dim\n",
    "\n",
    "# Helper\n",
    "def transform_input(x):\n",
    "    return np.array([[x[0, 0], np.cos(x[1, 0]), np.sin(x[1, 0]), x[2, 0], x[3, 0]]]).T\n",
    "\n",
    "def policy_query(w, x, action_dim, hidden, max_action):\n",
    "    ### TO-DO: Query the policy\n",
    "    ### Call the function `policy` with the correct inputs. Return the output.\n",
    "    ### Remember to transform the input\n",
    "    ### ANSWER: Insert code here\n",
    "    transformed_x = transform_input(x)\n",
    "    y = policy(w, transformed_x, action_dim, hidden)\n",
    "\n",
    "    return max_action * y;\n",
    "    ### END of ANSWER\n",
    "\n",
    "# Run episode and return cumulative reward\n",
    "def episode(weights, max_steps = 80):\n",
    "    state_dim, action_dim = 5, 1\n",
    "    # Initial state\n",
    "    x_cartpole = np.array([[0., 0., 0., 0.]]).T\n",
    "    # Max torque\n",
    "    max_action = 7.\n",
    "\n",
    "    # Cumulative reward\n",
    "    episode_reward = 0.\n",
    "\n",
    "    for k in range(max_steps):\n",
    "        # Query policy\n",
    "        action = policy_query(weights, x_cartpole, action_dim, hidden, max_action)\n",
    "\n",
    "        # Perform action\n",
    "        next_state = cartpole_rk4(x_cartpole, action)\n",
    "        # next_state[2:, :] = np.maximum(-10., np.minimum(10., next_state[2:, :]))\n",
    "        reward = -10. * abs(angle_dist(np.pi, next_state[1, 0])) - next_state[0, 0]**2 - 0.01 * np.linalg.norm(next_state[2:, 0])\n",
    "\n",
    "        x_cartpole = np.copy(next_state)\n",
    "        episode_reward += reward\n",
    "    return -episode_reward # our ES is minimizing!"
   ]
  },
  {
   "cell_type": "code",
   "execution_count": 7,
   "id": "59c1d249-2b3c-405d-981b-847425d3dfe3",
   "metadata": {
    "deletable": false,
    "editable": false,
    "nbgrader": {
     "cell_type": "code",
     "checksum": "32e409176205ed921fd9dcd8f4edf647",
     "grade": true,
     "grade_id": "cell-b2abc1fe8e314db2",
     "locked": true,
     "points": 5,
     "schema_version": 3,
     "solution": false,
     "task": false
    }
   },
   "outputs": [],
   "source": [
    "# Tests\n",
    "state_dim, action_dim = 5, 1\n",
    "hidden = 2\n",
    "max_action = 10.\n",
    "\n",
    "w = np.ones((policy_size(state_dim, action_dim, hidden), 1))\n",
    "x = -2. * np.ones((5, 1))\n",
    "\n",
    "assert(np.isclose(policy(w, x, action_dim, hidden)[0, 0], 0.7615, rtol=1e-3, atol=1e-3))\n",
    "\n",
    "x = 20. * np.ones((5, 1))\n",
    "assert(np.isclose(policy(w, x, action_dim, hidden)[0, 0], 1., rtol=1e-3, atol=1e-3))\n",
    "\n",
    "w[:10, :] = -1.* w[:10, :]\n",
    "assert(np.isclose(policy(w, x, action_dim, hidden)[0, 0], 0.7615, rtol=1e-3, atol=1e-3))\n",
    "\n",
    "for _ in range(100):\n",
    "    x = np.random.randn(5, 1)\n",
    "    v = policy(w, x, action_dim, hidden)[0, 0]\n",
    "    assert(v >= -1. and v <= 1.)\n",
    "\n",
    "x = np.ones((4, 1))\n",
    "policy_query(w, x, action_dim, hidden, max_action);"
   ]
  },
  {
   "cell_type": "code",
   "execution_count": 8,
   "id": "6fc81a70-4693-4ed2-946c-5ef3bd648958",
   "metadata": {
    "deletable": false,
    "nbgrader": {
     "cell_type": "code",
     "checksum": "997906650e8e2d082b61af2fa70e14b5",
     "grade": false,
     "grade_id": "cell-d261745249554a02",
     "locked": false,
     "schema_version": 3,
     "solution": true,
     "task": false
    }
   },
   "outputs": [],
   "source": [
    "def antithetic_es_gradient(F, mu, sigma, eps, N):\n",
    "    F = np.asarray(F).flatten()\n",
    "    sigma = np.asarray(sigma).reshape(-1, 1)\n",
    "\n",
    "    if F.size == 2 * N:\n",
    "        F_plus = F[:N].reshape(1, N)\n",
    "        F_minus = F[N:].reshape(1, N)\n",
    "        eps_used = eps[:, :N]\n",
    "\n",
    "        grad = (eps_used @ (F_plus - F_minus).T) / (2 * N * sigma)\n",
    "    elif F.size == N:\n",
    "        ' https://numpy.org/doc/stable/reference/generated/numpy.concatenate.html '\n",
    "        temp = np.concatenate([F, F]).reshape(2 * N, 1)\n",
    "        \n",
    "        grad = (eps @ temp) / (2 * N * sigma)\n",
    "\n",
    "    return grad;"
   ]
  },
  {
   "cell_type": "code",
   "execution_count": 9,
   "id": "ba9fa7a9-c496-4aaf-a942-ae38fbcc8f22",
   "metadata": {
    "deletable": false,
    "editable": false,
    "nbgrader": {
     "cell_type": "code",
     "checksum": "26e1dccd518d66f481a8c06d7e7894a7",
     "grade": true,
     "grade_id": "cell-892eb9de445e2e75",
     "locked": true,
     "points": 5,
     "schema_version": 3,
     "solution": false,
     "task": false
    }
   },
   "outputs": [],
   "source": [
    "# Tests\n",
    "np.random.seed(5)\n",
    "\n",
    "mu0 = np.random.randn(4, 1)\n",
    "sig0 = np.random.randn(4, 1)\n",
    "N0 = 1\n",
    "f0 = np.random.randn(N0)\n",
    "eps0 = np.random.randn(4, 2 * N0)\n",
    "\n",
    "dx = antithetic_es_gradient(f0, mu0, sig0, eps0, N0)\n",
    "\n",
    "assert(np.isclose(dx, np.array([[-1.30303608], [-0.03341366], [0.10949152], [-0.07153784]]), rtol=1e-3, atol=1e-3).all())\n",
    "\n",
    "mu0 = np.random.randn(4, 1)\n",
    "sig0 = np.random.randn(4, 1)\n",
    "N0 = 1\n",
    "f0 = np.random.randn(N0)\n",
    "eps0 = np.random.randn(4, 2 * N0)\n",
    "\n",
    "dx = antithetic_es_gradient(f0, mu0, sig0, eps0, N0)\n",
    "\n",
    "assert(np.isclose(dx, np.array([[0.12644803], [0.04193474], [-0.136143], [-0.03834456]]), rtol=1e-3, atol=1e-3).all())"
   ]
  },
  {
   "cell_type": "code",
   "execution_count": 10,
   "id": "345785e2-d46d-47ac-8f64-a4f64a4f9029",
   "metadata": {},
   "outputs": [],
   "source": [
    "def antithetic_es_iteration():\n",
    "    global mu, sigma, N, m, v, b1a, b2a, all_bests\n",
    "    # Generate population\n",
    "    pop, eps = generate_population(mu, sigma, N)\n",
    "    \n",
    "    # Evaluate population\n",
    "    F = evaluate_pop(pop, episode)\n",
    "    \n",
    "    # Compute gradient estimation\n",
    "    dx = antithetic_es_gradient(F, mu, sigma, eps, N)\n",
    "    \n",
    "    # Adam Update\n",
    "    m = b1*m+(1-b1)*dx\n",
    "    v = b2*v+(1-b2)*np.square(dx)\n",
    "    a = lr*np.sqrt(1.-b2a)/(1.-b1a)\n",
    "    \n",
    "    # Step optimization\n",
    "    mu = mu - a*m/(np.sqrt(v)+epsilon)\n",
    "    # Adapt sigma\n",
    "    sigma = sigma * 0.9999\n",
    "    \n",
    "    # Adam Update #2\n",
    "    b1a *= b1\n",
    "    b2a *= b2\n",
    "    \n",
    "    mu_f = episode(mu)\n",
    "    # print(np.mean(F))\n",
    "    # print(np.min(F))\n",
    "    # print(mu_f)\n",
    "    # print(np.mean(sigma))\n",
    "    # print(mu_f)\n",
    "    \n",
    "    # all_bests += [-np.min(F)]\n",
    "    all_bests += [-mu_f]"
   ]
  },
  {
   "cell_type": "code",
   "execution_count": 11,
   "id": "3150fb6d-b81f-4f7d-9b81-34a6c6999c65",
   "metadata": {
    "deletable": false,
    "editable": false,
    "nbgrader": {
     "cell_type": "code",
     "checksum": "e544e4737662691c5d076f8ae2d643ea",
     "grade": false,
     "grade_id": "cell-16f74d20b7c01d55",
     "locked": true,
     "schema_version": 3,
     "solution": false,
     "task": false
    }
   },
   "outputs": [],
   "source": [
    "# Print iterations progress\n",
    "def printProgressBar(iteration, total, prefix = '', suffix = '', decimals = 1, length = 100, fill = '█', printEnd = \"\\r\"):\n",
    "    percent = (\"{0:.\" + str(decimals) + \"f}\").format(100 * (iteration / float(total)))\n",
    "    filledLength = int(length * iteration // total)\n",
    "    bar = fill * filledLength + '-' * (length - filledLength)\n",
    "    print(f'\\r{prefix} |{bar}| {percent}% {suffix}', end = printEnd)\n",
    "    # Print New Line on Complete\n",
    "    if iteration == total: \n",
    "        print()"
   ]
  },
  {
   "cell_type": "code",
   "execution_count": 12,
   "id": "d5b7410e-c13d-4de8-95c6-b779a13f3fee",
   "metadata": {},
   "outputs": [],
   "source": [
    "# Antithetic ES\n",
    "lr = 1e-3 # learning rate\n",
    "N = 5 # population\n",
    "\n",
    "state_dim, action_dim = 5, 1\n",
    "hidden = 10\n",
    "\n",
    "# Initial mu, sigma\n",
    "mu = np.random.randn(policy_size(state_dim, action_dim, hidden), 1)\n",
    "sigma = np.ones_like(mu)\n",
    "\n",
    "# For Adam\n",
    "b1 = 0.9\n",
    "b2 = 0.999\n",
    "epsilon = 1e-8\n",
    "b1a = b1\n",
    "b2a = b2\n",
    "\n",
    "m = np.zeros(mu.shape)\n",
    "v = np.zeros(mu.shape)\n",
    "\n",
    "# For plotting\n",
    "all_bests = []"
   ]
  },
  {
   "cell_type": "code",
   "execution_count": 13,
   "id": "4acd233b-cf1e-4f13-a2e7-ccfffaa56873",
   "metadata": {},
   "outputs": [
    {
     "name": "stdout",
     "output_type": "stream",
     "text": [
      "2100.6412990375143 |████████████████████████████████████████████████████████████████████████████████████████████████████| 100.0% \n"
     ]
    }
   ],
   "source": [
    "max_iters = 2000\n",
    "for it in range(max_iters):\n",
    "    antithetic_es_iteration()\n",
    "    printProgressBar(it, max_iters-1, str(-all_bests[-1]))"
   ]
  },
  {
   "cell_type": "code",
   "execution_count": 14,
   "id": "4ab65ec3-e924-41bd-82e6-ad112634b8f5",
   "metadata": {},
   "outputs": [
    {
     "data": {
      "image/png": "[encoded data removed]",
      "text/plain": [
       "<Figure size 640x480 with 1 Axes>"
      ]
     },
     "metadata": {},
     "output_type": "display_data"
    }
   ],
   "source": [
    "# Plot learning\n",
    "fig, ax = plt.subplots(1, 1)\n",
    "\n",
    "xx = np.arange(len(all_bests))\n",
    "\n",
    "ax.plot(xx, all_bests)\n",
    "\n",
    "plt.show()"
   ]
  },
  {
   "cell_type": "code",
   "execution_count": 15,
   "id": "409373a6-5689-49fe-bdd2-3fd886385d31",
   "metadata": {},
   "outputs": [
    {
     "name": "stdout",
     "output_type": "stream",
     "text": [
      "2100.6412990375143\n"
     ]
    },
    {
     "data": {
      "image/png": "[encoded data removed]",
      "text/plain": [
       "<Figure size 1000x1000 with 1 Axes>"
      ]
     },
     "metadata": {},
     "output_type": "display_data"
    }
   ],
   "source": [
    "# Visualize solution\n",
    "fig = plt.figure(figsize=(10, 10))\n",
    "\n",
    "ax = fig.add_subplot(111)\n",
    "plt.cla()\n",
    "ax.set_aspect('equal', 'box')\n",
    "\n",
    "weights = mu # The mean is the optimized parameters in Antithetic ES!\n",
    "max_steps = 80\n",
    "# Initial state\n",
    "x_cartpole = np.array([[0., 0., 0., 0.]]).T\n",
    "# Max torque\n",
    "max_action = 7.\n",
    "\n",
    "# Cumulative reward\n",
    "episode_reward = 0.\n",
    "start_alpha = 0.1\n",
    "final_alpha = 1.\n",
    "\n",
    "for k in range(max_steps):\n",
    "    action = policy_query(weights, x_cartpole, action_dim, hidden, max_action)\n",
    "\n",
    "    # Perform action\n",
    "    next_state = cartpole_rk4(x_cartpole, action)\n",
    "    # next_state[2:, :] = np.maximum(-10., np.minimum(10., next_state[2:, :]))\n",
    "    reward = -10. * abs(angle_dist(np.pi, next_state[1, 0])) - next_state[0, 0]**2 - 0.01 * np.linalg.norm(next_state[2:, 0])\n",
    "\n",
    "    # Render\n",
    "    if k % 2 == 0 or k == max_steps - 1:\n",
    "        alpha = start_alpha * np.power(final_alpha / start_alpha, float(k)  / float(max_steps))\n",
    "        # Set limts\n",
    "        # plt.xlim(-1., 1.)\n",
    "        plt.ylim(-1., 1.)\n",
    "    \n",
    "        # plot base\n",
    "        x = next_state[0, 0]\n",
    "        ax.plot([x - 0.1, x + 0.1], [-0.1, -0.1], 'b', alpha=alpha)\n",
    "        ax.plot([x - 0.1, x - 0.1], [-0.1, 0.1], 'b', alpha=alpha)\n",
    "        ax.plot([x - 0.1, x + 0.1], [0.1, 0.1], 'b', alpha=alpha)\n",
    "        ax.plot([x + 0.1, x + 0.1], [0.1, -0.1], 'b', alpha=alpha)\n",
    "        # plot tip\n",
    "        px = next_state[0, 0] + 0.5 * np.sin(np.pi - next_state[1, 0])\n",
    "        py = 0.5 * np.cos(np.pi - next_state[1, 0])\n",
    "        ax.plot([next_state[0, 0], px], [0., py], 'b', markersize=10, alpha=alpha)\n",
    "        ax.plot([px], [py], 'bo', alpha=alpha)\n",
    "\n",
    "    x_cartpole = np.copy(next_state)\n",
    "    episode_reward += reward\n",
    "print(-episode_reward)"
   ]
  }
 ],
 "metadata": {
  "kernelspec": {
   "display_name": "Python 3 (ipykernel)",
   "language": "python",
   "name": "python3"
  },
  "language_info": {
   "codemirror_mode": {
    "name": "ipython",
    "version": 3
   },
   "file_extension": ".py",
   "mimetype": "text/x-python",
   "name": "python",
   "nbconvert_exporter": "python",
   "pygments_lexer": "ipython3",
   "version": "3.12.6"
  }
 },
 "nbformat": 4,
 "nbformat_minor": 5
}
